{
  "nbformat": 4,
  "nbformat_minor": 0,
  "metadata": {
    "colab": {
      "provenance": [],
      "authorship_tag": "ABX9TyNYNQ9FssMz3Ip1BF8Q0Rua",
      "include_colab_link": true
    },
    "kernelspec": {
      "name": "python3",
      "display_name": "Python 3"
    },
    "language_info": {
      "name": "python"
    }
  },
  "cells": [
    {
      "cell_type": "markdown",
      "metadata": {
        "id": "view-in-github",
        "colab_type": "text"
      },
      "source": [
        "<a href=\"https://colab.research.google.com/github/teja0212/teja0212/blob/main/simple_recommendation_system_using_collaborative_filtering.ipynb\" target=\"_parent\"><img src=\"https://colab.research.google.com/assets/colab-badge.svg\" alt=\"Open In Colab\"/></a>"
      ]
    },
    {
      "cell_type": "code",
      "execution_count": 1,
      "metadata": {
        "colab": {
          "base_uri": "https://localhost:8080/"
        },
        "id": "hb7Q1dxuruqJ",
        "outputId": "182f231a-7197-4d52-b6df-55c556ceeb16"
      },
      "outputs": [
        {
          "output_type": "stream",
          "name": "stdout",
          "text": [
            "Recommended items for user 1: [2, 1, 1, 2]\n"
          ]
        }
      ],
      "source": [
        "import numpy as np\n",
        "from sklearn.metrics.pairwise import cosine_similarity\n",
        "\n",
        "def calculate_user_similarity(interaction_matrix):\n",
        "    \"\"\"\n",
        "    Calculate the cosine similarity between users based on their item ratings.\n",
        "    \"\"\"\n",
        "    return cosine_similarity(interaction_matrix)\n",
        "\n",
        "def recommend_items(user_index, interaction_matrix, similarity_matrix):\n",
        "    \"\"\"\n",
        "    Recommend items to a target user based on the ratings of similar users.\n",
        "    \"\"\"\n",
        "    similar_users = np.argsort(similarity_matrix[user_index])[::-1]\n",
        "    recommended_items = []\n",
        "\n",
        "    for user in similar_users:\n",
        "        if user == user_index:\n",
        "            continue\n",
        "        rated_items = np.where(interaction_matrix[user] != 0)[0]\n",
        "        for item in rated_items:\n",
        "            if interaction_matrix[user_index, item] == 0:\n",
        "                recommended_items.append(item)\n",
        "\n",
        "    return recommended_items\n",
        "\n",
        "# Example usage\n",
        "interaction_matrix = np.array([\n",
        "    [5, 3, 0, 1, 4],\n",
        "    [4, 0, 0, 5, 2],\n",
        "    [1, 5, 4, 0, 3],\n",
        "    [2, 0, 3, 4, 1]\n",
        "])\n",
        "\n",
        "similarity_matrix = calculate_user_similarity(interaction_matrix)\n",
        "recommended_items = recommend_items(1, interaction_matrix, similarity_matrix)\n",
        "\n",
        "print(f\"Recommended items for user 1: {recommended_items}\")"
      ]
    }
  ]
}