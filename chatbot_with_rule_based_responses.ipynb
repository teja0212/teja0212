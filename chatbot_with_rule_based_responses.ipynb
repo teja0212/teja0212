{
  "nbformat": 4,
  "nbformat_minor": 0,
  "metadata": {
    "colab": {
      "provenance": [],
      "authorship_tag": "ABX9TyOz3mZXqWSvNp/jyFXqPKXC",
      "include_colab_link": true
    },
    "kernelspec": {
      "name": "python3",
      "display_name": "Python 3"
    },
    "language_info": {
      "name": "python"
    }
  },
  "cells": [
    {
      "cell_type": "markdown",
      "metadata": {
        "id": "view-in-github",
        "colab_type": "text"
      },
      "source": [
        "<a href=\"https://colab.research.google.com/github/teja0212/teja0212/blob/main/chatbot_with_rule_based_responses.ipynb\" target=\"_parent\"><img src=\"https://colab.research.google.com/assets/colab-badge.svg\" alt=\"Open In Colab\"/></a>"
      ]
    },
    {
      "cell_type": "code",
      "execution_count": null,
      "metadata": {
        "colab": {
          "base_uri": "https://localhost:8080/"
        },
        "id": "69neHzsBntQ4",
        "outputId": "ea78b149-c774-4782-a8f9-99d361607c2b"
      },
      "outputs": [
        {
          "metadata": {
            "tags": null
          },
          "name": "stdout",
          "output_type": "stream",
          "text": [
            "Chatbot: I'm sorry. I didn't understand that.\n",
            "Chatbot: Hello! How can I assist you today?\n",
            "Chatbot: The Weather today is sunny.\n",
            "Chatbot: I'm sorry. I didn't understand that.\n"
          ]
        }
      ],
      "source": [
        "def chatbot():\n",
        "    while True:\n",
        "        user_input = input(\"Master: \").lower()  # get user input\n",
        "        intent = recognize_intent(user_input)  # recognize intent\n",
        "        response = get_response(intent)  # Get predefined response\n",
        "        print(f\"Chatbot: {response}\")\n",
        "\n",
        "\n",
        "def recognize_intent(user_input):\n",
        "    # Implement your pattern matching logic here\n",
        "    # Example: Check if user_input contains specific keywords\n",
        "    if \"hello\" in user_input:\n",
        "        return \"greeting\"\n",
        "    elif \"weather\" in user_input:\n",
        "        return \"weather_inquiry\"\n",
        "    else:\n",
        "        return \"unknown\"\n",
        "\n",
        "\n",
        "def get_response(intent):\n",
        "    # Define predefined responses for each intent\n",
        "    if intent == \"greeting\":\n",
        "        return \"Hello! How can I assist you today?\"\n",
        "    elif intent == \"weather_inquiry\":\n",
        "        return \"The Weather today is sunny.\"\n",
        "    else:\n",
        "        return \"I'm sorry. I didn't understand that.\"\n",
        "\n",
        "\n",
        "if __name__ == \"__main__\":\n",
        "    chatbot()"
      ]
    }
  ]
}